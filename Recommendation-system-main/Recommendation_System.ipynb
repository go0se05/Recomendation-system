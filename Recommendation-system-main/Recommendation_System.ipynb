{
  "cells": [
    {
      "cell_type": "markdown",
      "metadata": {
        "id": "g3YZgZqeP6xt"
      },
      "source": [
        "## Import Libraries"
      ]
    },
    {
      "cell_type": "code",
      "execution_count": null,
      "metadata": {
        "id": "wGr97n8aL6Zq"
      },
      "outputs": [],
      "source": [
        "import pandas as pd\n",
        "import numpy as np\n",
        "import seaborn as sns\n",
        "import matplotlib.pyplot as plt\n",
        "import tensorflow as tf\n",
        "from tensorflow import keras\n",
        "from tensorflow.keras import layers"
      ]
    },
    {
      "cell_type": "markdown",
      "metadata": {
        "id": "nEUgrgK0ToWa"
      },
      "source": [
        "Kode diatas merupakan kode yang digunakan untuk meng-import library apa saja yang digunakan"
      ]
    },
    {
      "cell_type": "markdown",
      "metadata": {
        "id": "e8TbzHbDQA3V"
      },
      "source": [
        "## Load Dataset"
      ]
    },
    {
      "cell_type": "code",
      "execution_count": null,
      "metadata": {
        "id": "4VeopvE6N8Vz"
      },
      "outputs": [],
      "source": [
        "# Load the dataset Movie_Id_Titles\n",
        "link = 'https://raw.githubusercontent.com/go0se05/Recommendation-system/refs/heads/main/Movie_Recommendation%20system/Movie_Id_Titles.csv'\n",
        "title_df = pd.read_csv(link)"
      ]
    },
    {
      "cell_type": "code",
      "execution_count": null,
      "metadata": {
        "id": "og967qgwNCPe"
      },
      "outputs": [],
      "source": [
        "# Load the dataset Movie Rating\n",
        "url = 'https://raw.githubusercontent.com/go0se05/Recommendation-system/refs/heads/main/Movie_Recommendation%20system/Dataset.csv'\n",
        "rating_df = pd.read_csv(url)"
      ]
    },
    {
      "cell_type": "markdown",
      "metadata": {
        "id": "1YhYvai4Tk-r"
      },
      "source": [
        "Kode diatas digunakan untuk mengunduh dataset yang berada di github dengan menggunakan link url github terdapat dua dataset yaitu :\n",
        "* `movie_title`\n",
        "* `movie_rating`"
      ]
    },
    {
      "cell_type": "markdown",
      "metadata": {
        "id": "ZRdYJYm0QHqp"
      },
      "source": [
        "## Data Understanding"
      ]
    },
    {
      "cell_type": "code",
      "execution_count": null,
      "metadata": {
        "colab": {
          "base_uri": "https://localhost:8080/"
        },
        "id": "5BSC8TUiVCSQ",
        "outputId": "6f9fedaa-0bab-4a3e-d7d1-c7b21a7142bb"
      },
      "outputs": [
        {
          "name": "stdout",
          "output_type": "stream",
          "text": [
            "Jumlah data penilaian: 100003\n",
            "Jumlah data judul: 1682\n"
          ]
        }
      ],
      "source": [
        "rating_df = pd.read_csv(url)\n",
        "title_df= pd.read_csv(link)\n",
        "\n",
        "print(\"Jumlah data penilaian:\", len(rating_df))\n",
        "print(\"Jumlah data judul:\", len(title_df))"
      ]
    },
    {
      "cell_type": "markdown",
      "metadata": {
        "id": "XvufVEytU0x2"
      },
      "source": [
        "### Univariate Exploratory Data Analysis"
      ]
    },
    {
      "cell_type": "markdown",
      "metadata": {
        "id": "uZT-cgYMV9zr"
      },
      "source": [
        "variabel-variabel yang terdapat pada dataset Movie Recommendation System adalah sebagai berikut:\n",
        "\n",
        "* **Rating** : Merupakan data-data penilaian dari para customer\n",
        "* **Title** : Data yang berisi judul-judul film"
      ]
    },
    {
      "cell_type": "markdown",
      "metadata": {
        "id": "iwAvB9UMXfaY"
      },
      "source": [
        "### Rating Variabel"
      ]
    },
    {
      "cell_type": "code",
      "execution_count": null,
      "metadata": {
        "colab": {
          "base_uri": "https://localhost:8080/",
          "height": 424
        },
        "id": "gtueFzaUPrsM",
        "outputId": "85336379-188a-41e0-8318-94e524a1b75f"
      },
      "outputs": [
        {
          "data": {
            "text/html": [
              "<div>\n",
              "<style scoped>\n",
              "    .dataframe tbody tr th:only-of-type {\n",
              "        vertical-align: middle;\n",
              "    }\n",
              "\n",
              "    .dataframe tbody tr th {\n",
              "        vertical-align: top;\n",
              "    }\n",
              "\n",
              "    .dataframe thead th {\n",
              "        text-align: right;\n",
              "    }\n",
              "</style>\n",
              "<table border=\"1\" class=\"dataframe\">\n",
              "  <thead>\n",
              "    <tr style=\"text-align: right;\">\n",
              "      <th></th>\n",
              "      <th>user_id</th>\n",
              "      <th>item_id</th>\n",
              "      <th>rating</th>\n",
              "      <th>timestamp</th>\n",
              "    </tr>\n",
              "  </thead>\n",
              "  <tbody>\n",
              "    <tr>\n",
              "      <th>0</th>\n",
              "      <td>0</td>\n",
              "      <td>50</td>\n",
              "      <td>5</td>\n",
              "      <td>881250949</td>\n",
              "    </tr>\n",
              "    <tr>\n",
              "      <th>1</th>\n",
              "      <td>0</td>\n",
              "      <td>172</td>\n",
              "      <td>5</td>\n",
              "      <td>881250949</td>\n",
              "    </tr>\n",
              "    <tr>\n",
              "      <th>2</th>\n",
              "      <td>0</td>\n",
              "      <td>133</td>\n",
              "      <td>1</td>\n",
              "      <td>881250949</td>\n",
              "    </tr>\n",
              "    <tr>\n",
              "      <th>3</th>\n",
              "      <td>196</td>\n",
              "      <td>242</td>\n",
              "      <td>3</td>\n",
              "      <td>881250949</td>\n",
              "    </tr>\n",
              "    <tr>\n",
              "      <th>4</th>\n",
              "      <td>186</td>\n",
              "      <td>302</td>\n",
              "      <td>3</td>\n",
              "      <td>891717742</td>\n",
              "    </tr>\n",
              "    <tr>\n",
              "      <th>...</th>\n",
              "      <td>...</td>\n",
              "      <td>...</td>\n",
              "      <td>...</td>\n",
              "      <td>...</td>\n",
              "    </tr>\n",
              "    <tr>\n",
              "      <th>99998</th>\n",
              "      <td>880</td>\n",
              "      <td>476</td>\n",
              "      <td>3</td>\n",
              "      <td>880175444</td>\n",
              "    </tr>\n",
              "    <tr>\n",
              "      <th>99999</th>\n",
              "      <td>716</td>\n",
              "      <td>204</td>\n",
              "      <td>5</td>\n",
              "      <td>879795543</td>\n",
              "    </tr>\n",
              "    <tr>\n",
              "      <th>100000</th>\n",
              "      <td>276</td>\n",
              "      <td>1090</td>\n",
              "      <td>1</td>\n",
              "      <td>874795795</td>\n",
              "    </tr>\n",
              "    <tr>\n",
              "      <th>100001</th>\n",
              "      <td>13</td>\n",
              "      <td>225</td>\n",
              "      <td>2</td>\n",
              "      <td>882399156</td>\n",
              "    </tr>\n",
              "    <tr>\n",
              "      <th>100002</th>\n",
              "      <td>12</td>\n",
              "      <td>203</td>\n",
              "      <td>3</td>\n",
              "      <td>879959583</td>\n",
              "    </tr>\n",
              "  </tbody>\n",
              "</table>\n",
              "<p>100003 rows × 4 columns</p>\n",
              "</div>"
            ],
            "text/plain": [
              "        user_id  item_id  rating  timestamp\n",
              "0             0       50       5  881250949\n",
              "1             0      172       5  881250949\n",
              "2             0      133       1  881250949\n",
              "3           196      242       3  881250949\n",
              "4           186      302       3  891717742\n",
              "...         ...      ...     ...        ...\n",
              "99998       880      476       3  880175444\n",
              "99999       716      204       5  879795543\n",
              "100000      276     1090       1  874795795\n",
              "100001       13      225       2  882399156\n",
              "100002       12      203       3  879959583\n",
              "\n",
              "[100003 rows x 4 columns]"
            ]
          },
          "execution_count": 5,
          "metadata": {},
          "output_type": "execute_result"
        }
      ],
      "source": [
        "rating_df"
      ]
    },
    {
      "cell_type": "code",
      "execution_count": null,
      "metadata": {
        "colab": {
          "base_uri": "https://localhost:8080/",
          "height": 300
        },
        "id": "fu5rHhVPiEL4",
        "outputId": "c86b2afa-eff8-497c-910d-ea045cb54f83"
      },
      "outputs": [
        {
          "data": {
            "text/html": [
              "<div>\n",
              "<style scoped>\n",
              "    .dataframe tbody tr th:only-of-type {\n",
              "        vertical-align: middle;\n",
              "    }\n",
              "\n",
              "    .dataframe tbody tr th {\n",
              "        vertical-align: top;\n",
              "    }\n",
              "\n",
              "    .dataframe thead th {\n",
              "        text-align: right;\n",
              "    }\n",
              "</style>\n",
              "<table border=\"1\" class=\"dataframe\">\n",
              "  <thead>\n",
              "    <tr style=\"text-align: right;\">\n",
              "      <th></th>\n",
              "      <th>user_id</th>\n",
              "      <th>item_id</th>\n",
              "      <th>rating</th>\n",
              "      <th>timestamp</th>\n",
              "    </tr>\n",
              "  </thead>\n",
              "  <tbody>\n",
              "    <tr>\n",
              "      <th>count</th>\n",
              "      <td>100003.000000</td>\n",
              "      <td>100003.000000</td>\n",
              "      <td>100003.000000</td>\n",
              "      <td>1.000030e+05</td>\n",
              "    </tr>\n",
              "    <tr>\n",
              "      <th>mean</th>\n",
              "      <td>462.470876</td>\n",
              "      <td>425.520914</td>\n",
              "      <td>3.529864</td>\n",
              "      <td>8.835288e+08</td>\n",
              "    </tr>\n",
              "    <tr>\n",
              "      <th>std</th>\n",
              "      <td>266.622454</td>\n",
              "      <td>330.797791</td>\n",
              "      <td>1.125704</td>\n",
              "      <td>5.343791e+06</td>\n",
              "    </tr>\n",
              "    <tr>\n",
              "      <th>min</th>\n",
              "      <td>0.000000</td>\n",
              "      <td>1.000000</td>\n",
              "      <td>1.000000</td>\n",
              "      <td>8.747247e+08</td>\n",
              "    </tr>\n",
              "    <tr>\n",
              "      <th>25%</th>\n",
              "      <td>254.000000</td>\n",
              "      <td>175.000000</td>\n",
              "      <td>3.000000</td>\n",
              "      <td>8.794487e+08</td>\n",
              "    </tr>\n",
              "    <tr>\n",
              "      <th>50%</th>\n",
              "      <td>447.000000</td>\n",
              "      <td>322.000000</td>\n",
              "      <td>4.000000</td>\n",
              "      <td>8.828269e+08</td>\n",
              "    </tr>\n",
              "    <tr>\n",
              "      <th>75%</th>\n",
              "      <td>682.000000</td>\n",
              "      <td>631.000000</td>\n",
              "      <td>4.000000</td>\n",
              "      <td>8.882600e+08</td>\n",
              "    </tr>\n",
              "    <tr>\n",
              "      <th>max</th>\n",
              "      <td>943.000000</td>\n",
              "      <td>1682.000000</td>\n",
              "      <td>5.000000</td>\n",
              "      <td>8.932866e+08</td>\n",
              "    </tr>\n",
              "  </tbody>\n",
              "</table>\n",
              "</div>"
            ],
            "text/plain": [
              "             user_id        item_id         rating     timestamp\n",
              "count  100003.000000  100003.000000  100003.000000  1.000030e+05\n",
              "mean      462.470876     425.520914       3.529864  8.835288e+08\n",
              "std       266.622454     330.797791       1.125704  5.343791e+06\n",
              "min         0.000000       1.000000       1.000000  8.747247e+08\n",
              "25%       254.000000     175.000000       3.000000  8.794487e+08\n",
              "50%       447.000000     322.000000       4.000000  8.828269e+08\n",
              "75%       682.000000     631.000000       4.000000  8.882600e+08\n",
              "max       943.000000    1682.000000       5.000000  8.932866e+08"
            ]
          },
          "execution_count": 6,
          "metadata": {},
          "output_type": "execute_result"
        }
      ],
      "source": [
        "rating_df.describe()"
      ]
    },
    {
      "cell_type": "code",
      "execution_count": null,
      "metadata": {
        "colab": {
          "base_uri": "https://localhost:8080/"
        },
        "id": "oy5R2x_SOle-",
        "outputId": "40e79672-973f-4d02-f744-b484bfc78d65"
      },
      "outputs": [
        {
          "name": "stdout",
          "output_type": "stream",
          "text": [
            "<class 'pandas.core.frame.DataFrame'>\n",
            "RangeIndex: 100003 entries, 0 to 100002\n",
            "Data columns (total 4 columns):\n",
            " #   Column     Non-Null Count   Dtype\n",
            "---  ------     --------------   -----\n",
            " 0   user_id    100003 non-null  int64\n",
            " 1   item_id    100003 non-null  int64\n",
            " 2   rating     100003 non-null  int64\n",
            " 3   timestamp  100003 non-null  int64\n",
            "dtypes: int64(4)\n",
            "memory usage: 3.1 MB\n"
          ]
        }
      ],
      "source": [
        "rating_df.info()"
      ]
    },
    {
      "cell_type": "markdown",
      "metadata": {
        "id": "2Ri4iViAXrUc"
      },
      "source": [
        "Dapat dilihat dari output diatas bahwa variabel movie rating terdapat :\n",
        "\n",
        "* 100003 baris data\n",
        "* 4 Kolom  (`user_id`, `item_id`, `rating`, `timestamp`)\n",
        "* bertipe data int"
      ]
    },
    {
      "cell_type": "markdown",
      "metadata": {
        "id": "wdgJAZvzZMAO"
      },
      "source": [
        "### Melihat nilai unik"
      ]
    },
    {
      "cell_type": "code",
      "execution_count": null,
      "metadata": {
        "colab": {
          "base_uri": "https://localhost:8080/"
        },
        "id": "b4iWLJ9cZkab",
        "outputId": "9965ec05-c70a-4966-c7b3-3a27300fd659"
      },
      "outputs": [
        {
          "name": "stdout",
          "output_type": "stream",
          "text": [
            "Jumlah user_id: 944\n",
            "Jumlah item_id: 1682\n",
            "Jumlah rating_id: 5\n",
            "Jumlah timestamp: 49282\n"
          ]
        }
      ],
      "source": [
        "print('Jumlah user_id:', len(rating_df.user_id.unique()))\n",
        "print('Jumlah item_id:', len(rating_df.item_id.unique()))\n",
        "print('Jumlah rating_id:', len(rating_df.rating.unique()))\n",
        "print('Jumlah timestamp:', len(rating_df.timestamp.unique()))"
      ]
    },
    {
      "cell_type": "markdown",
      "metadata": {
        "id": "OAJKgYu_ckVh"
      },
      "source": [
        "Berdasarkan output diatas dapat dilihat nilai unik yang dimiliki setiap variabel :\n",
        "- user_id : memiliki 944 jumlah data unik\n",
        "- item_id : memiliki 1682 jumlah data unik  \n",
        "- rating_id : memiliki 5 jumlah data unik  \n",
        "- timestamp : memiliki 49282 jumlah data unik  "
      ]
    },
    {
      "cell_type": "code",
      "execution_count": null,
      "metadata": {
        "colab": {
          "base_uri": "https://localhost:8080/",
          "height": 472
        },
        "id": "hmIW9h28nEtO",
        "outputId": "b0fe59d2-1b20-4221-ac02-6520ebdffedb"
      },
      "outputs": [
        {
          "data": {
            "image/png": "[encoded data removed]",
            "text/plain": [
              "<Figure size 640x480 with 1 Axes>"
            ]
          },
          "metadata": {},
          "output_type": "display_data"
        }
      ],
      "source": [
        "sns.histplot(data=rating_df, x='item_id', bins=30, kde=True)\n",
        "plt.title('Distribusi item')\n",
        "plt.xlabel('item')\n",
        "plt.ylabel('Jumlah item')\n",
        "plt.show()"
      ]
    },
    {
      "cell_type": "markdown",
      "metadata": {
        "id": "3NjUqNWbqHff"
      },
      "source": [
        "Dari gambar diatas dapat dilihat Distribusi dari item"
      ]
    },
    {
      "cell_type": "code",
      "execution_count": null,
      "metadata": {
        "colab": {
          "base_uri": "https://localhost:8080/",
          "height": 1000
        },
        "id": "NKcc5hm_0EAr",
        "outputId": "4937e0d9-cdaf-486f-d79e-6a2feb4697ae"
      },
      "outputs": [
        {
          "data": {
            "image/png": "[encoded data removed]",
            "text/plain": [
              "<Figure size 1000x600 with 1 Axes>"
            ]
          },
          "metadata": {},
          "output_type": "display_data"
        },
        {
          "data": {
            "image/png": "[encoded data removed]",
            "text/plain": [
              "<Figure size 1000x600 with 1 Axes>"
            ]
          },
          "metadata": {},
          "output_type": "display_data"
        },
        {
          "data": {
            "image/png": "[encoded data removed]",
            "text/plain": [
              "<Figure size 1000x600 with 1 Axes>"
            ]
          },
          "metadata": {},
          "output_type": "display_data"
        }
      ],
      "source": [
        "def plot_rating_distribution(data, groupby_col=None, title='', xlabel='Rating', ylabel='Count'):\n",
        "\n",
        "    plt.figure(figsize=(10, 6))\n",
        "\n",
        "    if groupby_col is None:\n",
        "        # Distribusi rating dasar\n",
        "        ratings = data['rating'].value_counts().nlargest(10).sort_values(ascending=False)\n",
        "        sns.barplot(x=ratings.index.astype(str), y=ratings.values, width=0.6)\n",
        "    else:\n",
        "        # Distribusi rating berdasarkan kolom tertentu\n",
        "        avg_rating = data.groupby('rating')[groupby_col].mean().sort_values(ascending=False).head(10)\n",
        "        sns.barplot(x=avg_rating.index.astype(str), y=avg_rating.values)\n",
        "\n",
        "    plt.title(title)\n",
        "    plt.xlabel(xlabel)\n",
        "    plt.ylabel(ylabel)\n",
        "    plt.show()\n",
        "\n",
        "# Contoh penggunaan:\n",
        "# 1. Distribusi rating dasar\n",
        "plot_rating_distribution(rating_df,\n",
        "                        title='Distribusi Rating',\n",
        "                        ylabel='Jumlah Rating')\n",
        "\n",
        "# 2. Distribusi berdasarkan user_id\n",
        "plot_rating_distribution(rating_df,\n",
        "                        groupby_col='user_id',\n",
        "                        title='Distribusi Rating Berdasarkan User ID',\n",
        "                        ylabel='Rata-rata User ID')\n",
        "\n",
        "# 3. Distribusi berdasarkan item_id\n",
        "plot_rating_distribution(rating_df,\n",
        "                        groupby_col='item_id',\n",
        "                        title='Distribusi Rating Berdasarkan Item',\n",
        "                        ylabel='Rata-rata Item ID')"
      ]
    },
    {
      "cell_type": "markdown",
      "metadata": {
        "id": "iNh_EQ4w0mcU"
      },
      "source": [
        "kode ini merupakan sebuah Fungsi untuk membuat visualisasi distribusi rating\n",
        "    \n",
        "    Parameters:\n",
        "    - data: DataFrame yang berisi data rating\n",
        "    - groupby_col: Kolom untuk pengelompokan (None untuk distribusi sederhana)\n",
        "    - title: Judul plot\n",
        "    - xlabel: Label sumbu x\n",
        "    - ylabel: Label sumbu y\n",
        "\n",
        "Visualisasi tersebut menunjukkan distribusi rating dari tiga perspektif: (1) jumlah rating untuk setiap nilai rating, (2) distribusi rating berdasarkan User ID, dan (3) distribusi rating berdasarkan jumlah Item, memberikan gambaran komprehensif tentang pola pemberian rating dalam dataset."
      ]
    },
    {
      "cell_type": "markdown",
      "metadata": {
        "id": "-laThC7ShqMG"
      },
      "source": [
        "### Title Variable"
      ]
    },
    {
      "cell_type": "code",
      "execution_count": null,
      "metadata": {
        "colab": {
          "base_uri": "https://localhost:8080/",
          "height": 424
        },
        "id": "J-WXTt-eOfA7",
        "outputId": "9393dae9-8ad4-452b-8a59-82ed1fbd68a3"
      },
      "outputs": [
        {
          "data": {
            "text/html": [
              "<div>\n",
              "<style scoped>\n",
              "    .dataframe tbody tr th:only-of-type {\n",
              "        vertical-align: middle;\n",
              "    }\n",
              "\n",
              "    .dataframe tbody tr th {\n",
              "        vertical-align: top;\n",
              "    }\n",
              "\n",
              "    .dataframe thead th {\n",
              "        text-align: right;\n",
              "    }\n",
              "</style>\n",
              "<table border=\"1\" class=\"dataframe\">\n",
              "  <thead>\n",
              "    <tr style=\"text-align: right;\">\n",
              "      <th></th>\n",
              "      <th>item_id</th>\n",
              "      <th>title</th>\n",
              "    </tr>\n",
              "  </thead>\n",
              "  <tbody>\n",
              "    <tr>\n",
              "      <th>0</th>\n",
              "      <td>1</td>\n",
              "      <td>Toy Story (1995)</td>\n",
              "    </tr>\n",
              "    <tr>\n",
              "      <th>1</th>\n",
              "      <td>2</td>\n",
              "      <td>GoldenEye (1995)</td>\n",
              "    </tr>\n",
              "    <tr>\n",
              "      <th>2</th>\n",
              "      <td>3</td>\n",
              "      <td>Four Rooms (1995)</td>\n",
              "    </tr>\n",
              "    <tr>\n",
              "      <th>3</th>\n",
              "      <td>4</td>\n",
              "      <td>Get Shorty (1995)</td>\n",
              "    </tr>\n",
              "    <tr>\n",
              "      <th>4</th>\n",
              "      <td>5</td>\n",
              "      <td>Copycat (1995)</td>\n",
              "    </tr>\n",
              "    <tr>\n",
              "      <th>...</th>\n",
              "      <td>...</td>\n",
              "      <td>...</td>\n",
              "    </tr>\n",
              "    <tr>\n",
              "      <th>1677</th>\n",
              "      <td>1678</td>\n",
              "      <td>Mat' i syn (1997)</td>\n",
              "    </tr>\n",
              "    <tr>\n",
              "      <th>1678</th>\n",
              "      <td>1679</td>\n",
              "      <td>B. Monkey (1998)</td>\n",
              "    </tr>\n",
              "    <tr>\n",
              "      <th>1679</th>\n",
              "      <td>1680</td>\n",
              "      <td>Sliding Doors (1998)</td>\n",
              "    </tr>\n",
              "    <tr>\n",
              "      <th>1680</th>\n",
              "      <td>1681</td>\n",
              "      <td>You So Crazy (1994)</td>\n",
              "    </tr>\n",
              "    <tr>\n",
              "      <th>1681</th>\n",
              "      <td>1682</td>\n",
              "      <td>Scream of Stone (Schrei aus Stein) (1991)</td>\n",
              "    </tr>\n",
              "  </tbody>\n",
              "</table>\n",
              "<p>1682 rows × 2 columns</p>\n",
              "</div>"
            ],
            "text/plain": [
              "      item_id                                      title\n",
              "0           1                           Toy Story (1995)\n",
              "1           2                           GoldenEye (1995)\n",
              "2           3                          Four Rooms (1995)\n",
              "3           4                          Get Shorty (1995)\n",
              "4           5                             Copycat (1995)\n",
              "...       ...                                        ...\n",
              "1677     1678                          Mat' i syn (1997)\n",
              "1678     1679                           B. Monkey (1998)\n",
              "1679     1680                       Sliding Doors (1998)\n",
              "1680     1681                        You So Crazy (1994)\n",
              "1681     1682  Scream of Stone (Schrei aus Stein) (1991)\n",
              "\n",
              "[1682 rows x 2 columns]"
            ]
          },
          "execution_count": 11,
          "metadata": {},
          "output_type": "execute_result"
        }
      ],
      "source": [
        "title_df"
      ]
    },
    {
      "cell_type": "code",
      "execution_count": null,
      "metadata": {
        "colab": {
          "base_uri": "https://localhost:8080/"
        },
        "id": "Iz71YsAzPxmL",
        "outputId": "5f949b64-d271-43dc-c884-7b2985f8f048"
      },
      "outputs": [
        {
          "name": "stdout",
          "output_type": "stream",
          "text": [
            "<class 'pandas.core.frame.DataFrame'>\n",
            "RangeIndex: 1682 entries, 0 to 1681\n",
            "Data columns (total 2 columns):\n",
            " #   Column   Non-Null Count  Dtype \n",
            "---  ------   --------------  ----- \n",
            " 0   item_id  1682 non-null   int64 \n",
            " 1   title    1682 non-null   object\n",
            "dtypes: int64(1), object(1)\n",
            "memory usage: 26.4+ KB\n"
          ]
        }
      ],
      "source": [
        "title_df.info()"
      ]
    },
    {
      "cell_type": "markdown",
      "metadata": {
        "id": "L1naQ-Nosdc3"
      },
      "source": [
        "Berdasarkan output diatas dapat dilihat bahwa title:\n",
        "- 1682 baris\n",
        "- 2 kolom (`item_id`&`title`)\n",
        "- tipe data int untuk `item_ID` & object untuk `title`"
      ]
    },
    {
      "cell_type": "markdown",
      "metadata": {
        "id": "QRkZHAhyt50O"
      },
      "source": [
        "### Melihat Nilai Unik"
      ]
    },
    {
      "cell_type": "code",
      "execution_count": null,
      "metadata": {
        "colab": {
          "base_uri": "https://localhost:8080/"
        },
        "id": "ntC5YTNJZkQk",
        "outputId": "4e979a3c-3fed-4323-d27a-015f48d08611"
      },
      "outputs": [
        {
          "name": "stdout",
          "output_type": "stream",
          "text": [
            "Jumlah item_id:  1682\n",
            "title:  ['Toy Story (1995)' 'GoldenEye (1995)' 'Four Rooms (1995)' ...\n",
            " 'B. Monkey (1998)' 'You So Crazy (1994)'\n",
            " 'Scream of Stone (Schrei aus Stein) (1991)']\n"
          ]
        }
      ],
      "source": [
        "print('Jumlah item_id: ', len(title_df.item_id.unique()))\n",
        "print('title: ', title_df.title.unique())"
      ]
    },
    {
      "cell_type": "markdown",
      "metadata": {
        "id": "ZjdrIs4fvlsa"
      },
      "source": [
        "Berdasarkan output di atas, dapat diketahui bahwa terdapat 1682 item unik berdasarkan kolom item_id. Setiap item memiliki judul film yang berbeda, seperti contohnya 'Toy Story (1995)', 'GoldenEye (1995)', 'Four Rooms (1995)', hingga 'Scream of Stone (Schrei aus Stein) (1991)'. Judul-judul ini mencerminkan koleksi film dari berbagai genre dan tahun rilis, menunjukkan bahwa dataset mencakup beragam film yang kemungkinan digunakan untuk keperluan analisis preferensi atau rekomendasi dalam sistem berbasis konten."
      ]
    },
    {
      "cell_type": "markdown",
      "metadata": {
        "id": "NibY8Qd2yNZJ"
      },
      "source": [
        "## Data Preparation"
      ]
    },
    {
      "cell_type": "markdown",
      "metadata": {
        "id": "o2WZZLLkQM_o"
      },
      "source": [
        "### Combine Two Dataset"
      ]
    },
    {
      "cell_type": "code",
      "execution_count": null,
      "metadata": {
        "id": "eaUnomG2qOCx"
      },
      "outputs": [],
      "source": [
        "# Merge rating and movie title data\n",
        "movie_df = pd.merge(\n",
        "    rating_df,\n",
        "    title_df,\n",
        "    on='item_id',\n",
        "    how='left'\n",
        ")"
      ]
    },
    {
      "cell_type": "code",
      "execution_count": null,
      "metadata": {
        "colab": {
          "base_uri": "https://localhost:8080/",
          "height": 424
        },
        "id": "o3maoQ2pQTHj",
        "outputId": "8725a83c-0914-41a3-e414-beaa72abacb5"
      },
      "outputs": [
        {
          "data": {
            "text/html": [
              "<div>\n",
              "<style scoped>\n",
              "    .dataframe tbody tr th:only-of-type {\n",
              "        vertical-align: middle;\n",
              "    }\n",
              "\n",
              "    .dataframe tbody tr th {\n",
              "        vertical-align: top;\n",
              "    }\n",
              "\n",
              "    .dataframe thead th {\n",
              "        text-align: right;\n",
              "    }\n",
              "</style>\n",
              "<table border=\"1\" class=\"dataframe\">\n",
              "  <thead>\n",
              "    <tr style=\"text-align: right;\">\n",
              "      <th></th>\n",
              "      <th>user_id</th>\n",
              "      <th>item_id</th>\n",
              "      <th>rating</th>\n",
              "      <th>timestamp</th>\n",
              "      <th>title</th>\n",
              "    </tr>\n",
              "  </thead>\n",
              "  <tbody>\n",
              "    <tr>\n",
              "      <th>0</th>\n",
              "      <td>0</td>\n",
              "      <td>50</td>\n",
              "      <td>5</td>\n",
              "      <td>881250949</td>\n",
              "      <td>Star Wars (1977)</td>\n",
              "    </tr>\n",
              "    <tr>\n",
              "      <th>1</th>\n",
              "      <td>0</td>\n",
              "      <td>172</td>\n",
              "      <td>5</td>\n",
              "      <td>881250949</td>\n",
              "      <td>Empire Strikes Back, The (1980)</td>\n",
              "    </tr>\n",
              "    <tr>\n",
              "      <th>2</th>\n",
              "      <td>0</td>\n",
              "      <td>133</td>\n",
              "      <td>1</td>\n",
              "      <td>881250949</td>\n",
              "      <td>Gone with the Wind (1939)</td>\n",
              "    </tr>\n",
              "    <tr>\n",
              "      <th>3</th>\n",
              "      <td>196</td>\n",
              "      <td>242</td>\n",
              "      <td>3</td>\n",
              "      <td>881250949</td>\n",
              "      <td>Kolya (1996)</td>\n",
              "    </tr>\n",
              "    <tr>\n",
              "      <th>4</th>\n",
              "      <td>186</td>\n",
              "      <td>302</td>\n",
              "      <td>3</td>\n",
              "      <td>891717742</td>\n",
              "      <td>L.A. Confidential (1997)</td>\n",
              "    </tr>\n",
              "    <tr>\n",
              "      <th>...</th>\n",
              "      <td>...</td>\n",
              "      <td>...</td>\n",
              "      <td>...</td>\n",
              "      <td>...</td>\n",
              "      <td>...</td>\n",
              "    </tr>\n",
              "    <tr>\n",
              "      <th>99998</th>\n",
              "      <td>880</td>\n",
              "      <td>476</td>\n",
              "      <td>3</td>\n",
              "      <td>880175444</td>\n",
              "      <td>First Wives Club, The (1996)</td>\n",
              "    </tr>\n",
              "    <tr>\n",
              "      <th>99999</th>\n",
              "      <td>716</td>\n",
              "      <td>204</td>\n",
              "      <td>5</td>\n",
              "      <td>879795543</td>\n",
              "      <td>Back to the Future (1985)</td>\n",
              "    </tr>\n",
              "    <tr>\n",
              "      <th>100000</th>\n",
              "      <td>276</td>\n",
              "      <td>1090</td>\n",
              "      <td>1</td>\n",
              "      <td>874795795</td>\n",
              "      <td>Sliver (1993)</td>\n",
              "    </tr>\n",
              "    <tr>\n",
              "      <th>100001</th>\n",
              "      <td>13</td>\n",
              "      <td>225</td>\n",
              "      <td>2</td>\n",
              "      <td>882399156</td>\n",
              "      <td>101 Dalmatians (1996)</td>\n",
              "    </tr>\n",
              "    <tr>\n",
              "      <th>100002</th>\n",
              "      <td>12</td>\n",
              "      <td>203</td>\n",
              "      <td>3</td>\n",
              "      <td>879959583</td>\n",
              "      <td>Unforgiven (1992)</td>\n",
              "    </tr>\n",
              "  </tbody>\n",
              "</table>\n",
              "<p>100003 rows × 5 columns</p>\n",
              "</div>"
            ],
            "text/plain": [
              "        user_id  item_id  rating  timestamp                            title\n",
              "0             0       50       5  881250949                 Star Wars (1977)\n",
              "1             0      172       5  881250949  Empire Strikes Back, The (1980)\n",
              "2             0      133       1  881250949        Gone with the Wind (1939)\n",
              "3           196      242       3  881250949                     Kolya (1996)\n",
              "4           186      302       3  891717742         L.A. Confidential (1997)\n",
              "...         ...      ...     ...        ...                              ...\n",
              "99998       880      476       3  880175444     First Wives Club, The (1996)\n",
              "99999       716      204       5  879795543        Back to the Future (1985)\n",
              "100000      276     1090       1  874795795                    Sliver (1993)\n",
              "100001       13      225       2  882399156            101 Dalmatians (1996)\n",
              "100002       12      203       3  879959583                Unforgiven (1992)\n",
              "\n",
              "[100003 rows x 5 columns]"
            ]
          },
          "execution_count": 15,
          "metadata": {},
          "output_type": "execute_result"
        }
      ],
      "source": [
        "movie_df"
      ]
    },
    {
      "cell_type": "markdown",
      "metadata": {
        "id": "Kqs-eBl_y78a"
      },
      "source": [
        "Pada tahap ini kita menggabungkan dua data yang telah kita gabungkan sebelumnya menjadi kesatuan data seperti diatas."
      ]
    },
    {
      "cell_type": "markdown",
      "metadata": {
        "id": "Bv006bFXyu1-"
      },
      "source": [
        "### Handling Missing Values & Data Duplicated"
      ]
    },
    {
      "cell_type": "code",
      "execution_count": null,
      "metadata": {
        "colab": {
          "base_uri": "https://localhost:8080/"
        },
        "id": "Q75bPHzZy9s3",
        "outputId": "23f28f01-4516-4a85-ae7c-5ce29e992b1d"
      },
      "outputs": [
        {
          "data": {
            "text/plain": [
              "0"
            ]
          },
          "execution_count": 16,
          "metadata": {},
          "output_type": "execute_result"
        }
      ],
      "source": [
        "movie_df.isnull().sum()\n",
        "movie_df.duplicated().sum()"
      ]
    },
    {
      "cell_type": "markdown",
      "metadata": {
        "id": "Hs_t5KJWy20l"
      },
      "source": [
        "Dapat diketahui bahwa tidak terdapat duplikat data maupun data hilang, maka kita dapat melanjutkan ke tahap berikutnya"
      ]
    },
    {
      "cell_type": "markdown",
      "metadata": {
        "id": "M1zDX_5VzsUs"
      },
      "source": [
        "### Drop Irelevant Columns"
      ]
    },
    {
      "cell_type": "code",
      "execution_count": null,
      "metadata": {
        "id": "NaUswwWHQU9z"
      },
      "outputs": [],
      "source": [
        "movie_df.drop('timestamp',axis=1,inplace=True)"
      ]
    },
    {
      "cell_type": "markdown",
      "metadata": {
        "id": "cG3R_Zcz4oc0"
      },
      "source": [
        "Fungsi kode ini adalah untuk Menghapus kolom 'timestamp' dari DataFrame movie_df."
      ]
    },
    {
      "cell_type": "markdown",
      "metadata": {
        "id": "O24iDTB5Oi-h"
      },
      "source": [
        "## Collaborative filtering"
      ]
    },
    {
      "cell_type": "code",
      "execution_count": null,
      "metadata": {
        "colab": {
          "base_uri": "https://localhost:8080/",
          "height": 206
        },
        "id": "Flzp60f6M15t",
        "outputId": "b6cfbc6e-7769-4af2-a9f9-674d555c7509"
      },
      "outputs": [
        {
          "data": {
            "text/html": [
              "<div>\n",
              "<style scoped>\n",
              "    .dataframe tbody tr th:only-of-type {\n",
              "        vertical-align: middle;\n",
              "    }\n",
              "\n",
              "    .dataframe tbody tr th {\n",
              "        vertical-align: top;\n",
              "    }\n",
              "\n",
              "    .dataframe thead th {\n",
              "        text-align: right;\n",
              "    }\n",
              "</style>\n",
              "<table border=\"1\" class=\"dataframe\">\n",
              "  <thead>\n",
              "    <tr style=\"text-align: right;\">\n",
              "      <th></th>\n",
              "      <th>userID</th>\n",
              "      <th>movieID</th>\n",
              "      <th>rating</th>\n",
              "    </tr>\n",
              "  </thead>\n",
              "  <tbody>\n",
              "    <tr>\n",
              "      <th>0</th>\n",
              "      <td>0</td>\n",
              "      <td>50</td>\n",
              "      <td>5</td>\n",
              "    </tr>\n",
              "    <tr>\n",
              "      <th>1</th>\n",
              "      <td>0</td>\n",
              "      <td>172</td>\n",
              "      <td>5</td>\n",
              "    </tr>\n",
              "    <tr>\n",
              "      <th>2</th>\n",
              "      <td>0</td>\n",
              "      <td>133</td>\n",
              "      <td>1</td>\n",
              "    </tr>\n",
              "    <tr>\n",
              "      <th>3</th>\n",
              "      <td>196</td>\n",
              "      <td>242</td>\n",
              "      <td>3</td>\n",
              "    </tr>\n",
              "    <tr>\n",
              "      <th>4</th>\n",
              "      <td>186</td>\n",
              "      <td>302</td>\n",
              "      <td>3</td>\n",
              "    </tr>\n",
              "  </tbody>\n",
              "</table>\n",
              "</div>"
            ],
            "text/plain": [
              "   userID  movieID  rating\n",
              "0       0       50       5\n",
              "1       0      172       5\n",
              "2       0      133       1\n",
              "3     196      242       3\n",
              "4     186      302       3"
            ]
          },
          "execution_count": 18,
          "metadata": {},
          "output_type": "execute_result"
        }
      ],
      "source": [
        "# Load dataset\n",
        "df = movie_df[['user_id', 'item_id', 'rating']].rename(columns={'user_id': 'userID', 'item_id': 'movieID'})\n",
        "df.head()"
      ]
    },
    {
      "cell_type": "markdown",
      "metadata": {
        "id": "4eZrI2AzTFAs"
      },
      "source": [
        "#### **Fungsi Utama**:\n",
        "Kode ini bertujuan untuk **menyiapkan data** (data preparation) sebelum membangun sistem rekomendasi, khususnya dengan:\n",
        "1. **Seleksi kolom** yang esensial untuk collaborative filtering.\n",
        "2. **Standardisasi nama kolom** agar kompatibel dengan library recommender system populer.\n",
        "\n",
        "---\n",
        "\n",
        "#### **Alasan Penggunaan Fungsi Ini**:\n",
        "1. **Kompatibilitas dengan Library Recommender System**:\n",
        "   - Library seperti Surprise mengharuskan input data memiliki kolom dengan nama spesifik (`userID`, `itemID`, `rating`).\n",
        "\n",
        "2. **Efisiensi Memori**:\n",
        "   - Dengan hanya memilih 3 kolom, ukuran DataFrame menjadi lebih kecil, mempercepat proses training model.\n",
        "\n",
        "3. **Konsistensi Data**:\n",
        "   - Penyeragaman nama kolom memudahkan kolaborasi tim dan maintenance kode.\n",
        "\n",
        "4. **Fleksibilitas**:\n",
        "   - Format ini cocok untuk berbagai algoritma collaborative filtering (KNN, Matrix Factorization, dll.).\n",
        "\n",
        "---"
      ]
    },
    {
      "cell_type": "markdown",
      "metadata": {
        "id": "IBbGeN5_SWpG"
      },
      "source": [
        "### User Encoding"
      ]
    },
    {
      "cell_type": "code",
      "execution_count": null,
      "metadata": {
        "colab": {
          "base_uri": "https://localhost:8080/"
        },
        "id": "pI0j-OlXM33z",
        "outputId": "24d1d18b-ba9e-48b9-dc63-c8b15eb0f5be"
      },
      "outputs": [
        {
          "name": "stdout",
          "output_type": "stream",
          "text": [
            "list userID:  [0, 196, 186, 22, 244]\n",
            "encoded userID sample:  {0: 0, 196: 1, 186: 2, 22: 3, 244: 4}\n",
            "encoded angka ke userID sample:  {0: 0, 1: 196, 2: 186, 3: 22, 4: 244}\n"
          ]
        }
      ],
      "source": [
        "# Get unique user IDs\n",
        "user_ids = df['userID'].unique().tolist()\n",
        "print('list userID: ', user_ids[:5])\n",
        "\n",
        "# Create userID to integer mapping\n",
        "user_to_user_encoded = {x: i for i, x in enumerate(user_ids)}\n",
        "print('encoded userID sample: ', {k: user_to_user_encoded[k] for k in list(user_to_user_encoded)[:5]})\n",
        "\n",
        "# Create integer to userID mapping\n",
        "user_encoded_to_user = {i: x for i, x in enumerate(user_ids)}\n",
        "print('encoded angka ke userID sample: ', {k: user_encoded_to_user[k] for k in list(user_encoded_to_user)[:5]})"
      ]
    },
    {
      "cell_type": "markdown",
      "metadata": {
        "id": "quOsE6FrTJuy"
      },
      "source": [
        "#### **Fungsi Utama**:\n",
        "Kode ini bertujuan untuk **membuat pemetaan identifier pengguna** (userID) dalam sistem rekomendasi, khususnya dengan:\n",
        "1. **Mengidentifikasi semua user unik** dalam dataset\n",
        "2. **Membuat kamus konversi dua arah** antara:\n",
        "   - UserID asli → indeks numerik (encoding)\n",
        "   - Indeks numerik → UserID asli (decoding)\n",
        "\n",
        "---\n",
        "\n",
        "#### **Alasan Penggunaan Fungsi Ini**:\n",
        "1. **Kompatibilitas dengan Algoritma Recommender System**:\n",
        "   - Library seperti TensorFlow Recommenders memerlukan input berupa indeks integer untuk embedding layer.\n",
        "\n",
        "2. **Optimasi Pemrosesan Data**:\n",
        "   - Operasi matematika dan pencarian lebih efisien menggunakan integer dibanding ID asli.\n",
        "\n",
        "3. **Konsistensi Representasi Data**:\n",
        "   - Memastikan semua user memiliki representasi numerik yang konsisten.\n",
        "\n",
        "4. **Fleksibilitas Transformasi**:\n",
        "   - Memungkinkan konversi bolak-balik antara ID asli dan representasi model.\n",
        "\n",
        "5. **Persiapan untuk Neural Networks**:\n",
        "   - Layer embedding membutuhkan input berupa indeks integer yang berurutan.\n",
        "\n",
        "---\n"
      ]
    },
    {
      "cell_type": "markdown",
      "metadata": {
        "id": "YA32EAm9SKQc"
      },
      "source": [
        "### Movie Encoding"
      ]
    },
    {
      "cell_type": "code",
      "execution_count": null,
      "metadata": {
        "id": "6C27SuddNAXq"
      },
      "outputs": [],
      "source": [
        "# Mengubah movieID menjadi list tanpa nilai yang sama\n",
        "movie_ids = df['movieID'].unique().tolist()\n",
        "\n",
        "# Melakukan proses encoding movieID\n",
        "movie_to_movie_encoded = {x: i for i, x in enumerate(movie_ids)}\n",
        "\n",
        "# Melakukan proses encoding angka ke movieID\n",
        "movie_encoded_to_movie = {i: x for i, x in enumerate(movie_ids)}"
      ]
    },
    {
      "cell_type": "markdown",
      "metadata": {
        "id": "6glPC82mTM6X"
      },
      "source": [
        "#### **Fungsi Utama**:\n",
        "Kode ini bertujuan untuk **membuat pemetaan identifier film** (movieID) dalam sistem rekomendasi, khususnya dengan:\n",
        "1. **Mengidentifikasi semua film unik** dalam dataset\n",
        "2. **Membuat kamus konversi dua arah** antara:\n",
        "   - MovieID asli → indeks numerik (encoding)\n",
        "   - Indeks numerik → MovieID asli (decoding)\n",
        "\n",
        "---\n",
        "\n",
        "#### **Alasan Penggunaan Fungsi Ini**:\n",
        "\n",
        "1. **Kompatibilitas dengan Algoritma Recommender System**:\n",
        "   - Framework seperti TensorFlow dan PyTorch membutuhkan input berupa indeks integer untuk embedding layer.\n",
        "\n",
        "2. **Optimasi Pemrosesan Data**:\n",
        "   - Representasi numerik mempercepat operasi matriks dan vektor dalam komputasi.\n",
        "\n",
        "3. **Konsistensi Representasi**:\n",
        "   - Memastikan setiap film memiliki representasi unik yang konsisten di seluruh pipeline.\n",
        "\n",
        "4. **Fleksibilitas Transformasi**:\n",
        "   - Memungkinkan konversi bolak-balik antara ID asli dan representasi model.\n",
        "\n",
        "5. **Persiapan untuk Sistem Rekomendasi**:\n",
        "   - Langkah esensial untuk membangun matriks user-item dan model collaborative filtering.\n",
        "\n",
        "---"
      ]
    },
    {
      "cell_type": "markdown",
      "metadata": {
        "id": "W8AbCjaBSAon"
      },
      "source": [
        "### Mapping To Dataframe"
      ]
    },
    {
      "cell_type": "code",
      "execution_count": null,
      "metadata": {
        "id": "5d488yETNCnq"
      },
      "outputs": [],
      "source": [
        "# Mapping userID ke dataframe user\n",
        "df['user'] = df['userID'].map(user_to_user_encoded)\n",
        "\n",
        "# Mapping movieID ke dataframe movie\n",
        "df['movie'] = df['movieID'].map(movie_to_movie_encoded)"
      ]
    },
    {
      "cell_type": "markdown",
      "metadata": {
        "id": "oaUXUDIpTRO4"
      },
      "source": [
        "#### **Fungsi Utama**:\n",
        "Kode ini bertujuan untuk **mengaplikasikan mapping identifier** yang telah dibuat sebelumnya ke dalam dataframe utama, dengan:\n",
        "1. **Menambahkan kolom baru** yang berisi hasil encoding:\n",
        "   - `user`: encoded userID (integer)\n",
        "   - `movie`: encoded movieID (integer)\n",
        "2. **Mengubah ID asli** menjadi representasi numerik yang siap diproses oleh model machine learning\n",
        "\n",
        "---\n",
        "\n",
        "#### **Alasan Penggunaan Fungsi Ini**:\n",
        "\n",
        "1. **Transformasi Data untuk Model**:\n",
        "   - Mengkonversi ID kategorikal (userID dan movieID) menjadi representasi numerik yang dibutuhkan algoritma ML\n",
        "\n",
        "2. **Konsistensi Pipeline Data**:\n",
        "   - Memastikan seluruh data menggunakan skema encoding yang sama\n",
        "\n",
        "3. **Optimasi Memori**:\n",
        "   - Penyimpanan nilai integer lebih efisien daripada string/ID asli\n",
        "\n",
        "4. **Persiapan Input Model**:\n",
        "   - Langkah penting sebelum membangun matriks user-item atau model embedding\n",
        "\n",
        "5. **Kompatibilitas Library**:\n",
        "   - Format ini diperlukan oleh library seperti TensorFlow, PyTorch, atau scikit-learn\n",
        "\n",
        "---"
      ]
    },
    {
      "cell_type": "markdown",
      "metadata": {
        "id": "6i2dKdDFR3OR"
      },
      "source": [
        "### Dataset Statistics"
      ]
    },
    {
      "cell_type": "code",
      "execution_count": null,
      "metadata": {
        "colab": {
          "base_uri": "https://localhost:8080/"
        },
        "id": "WGKytCbDNGCs",
        "outputId": "ee66776a-77e4-461e-dd88-8e89016b4833"
      },
      "outputs": [
        {
          "name": "stdout",
          "output_type": "stream",
          "text": [
            "Number of users: 944\n",
            "Number of movies: 1682\n"
          ]
        }
      ],
      "source": [
        "# Mendapatkan jumlah user\n",
        "num_users = len(user_to_user_encoded)\n",
        "print(\"Number of users:\", num_users)\n",
        "\n",
        "# Mendapatkan jumlah movie\n",
        "num_movie = len(movie_encoded_to_movie)\n",
        "print(\"Number of movies:\", num_movie)"
      ]
    },
    {
      "cell_type": "markdown",
      "metadata": {
        "id": "7EsBQqdATUxX"
      },
      "source": [
        "---\n",
        "Dua baris kode ini berfungsi untuk **menghitung total jumlah pengguna (user)** dan **total jumlah film (movie)** yang ada di data Anda.\n",
        "\n",
        "* **`num_users = len(user_to_user_encoded)`**\n",
        "    * Menghitung berapa banyak pengguna unik yang ada.\n",
        "    * Berguna untuk mengetahui skala data pengguna dan penting saat membuat model *machine learning* agar ukurannya pas.\n",
        "\n",
        "* **`num_movie = len(movie_encoded_to_movie)`**\n",
        "    * Menghitung berapa banyak film unik yang ada.\n",
        "    * Mirip dengan pengguna, ini penting untuk mengetahui skala data film dan untuk mengatur dimensi model *machine learning* dengan benar.\n",
        "\n",
        "Singkatnya, kedua kode ini membantu Anda tahu **seberapa besar (berapa banyak)** data pengguna dan film yang Anda miliki, yang sangat penting untuk analisis data dan pembangunan model."
      ]
    },
    {
      "cell_type": "code",
      "execution_count": null,
      "metadata": {
        "id": "U7DaVA-MNIG7"
      },
      "outputs": [],
      "source": [
        "# Mengubah rating menjadi nilai float\n",
        "df['rating'] = df['rating'].values.astype(np.float32)"
      ]
    },
    {
      "cell_type": "code",
      "execution_count": null,
      "metadata": {
        "colab": {
          "base_uri": "https://localhost:8080/"
        },
        "id": "orqAO7MpNKfI",
        "outputId": "ada05169-f69e-4f4a-fb3e-f594c7664bc2"
      },
      "outputs": [
        {
          "name": "stdout",
          "output_type": "stream",
          "text": [
            "Number of User: 944, Number of Movie: 1682, Min Rating: 1.0, Max Rating: 5.0\n"
          ]
        }
      ],
      "source": [
        "# Convert ratings to float and get min/max\n",
        "df['rating'] = df['rating'].values.astype(np.float32)\n",
        "min_rating = min(df['rating'])\n",
        "max_rating = max(df['rating'])\n",
        "\n",
        "print('Number of User: {}, Number of Movie: {}, Min Rating: {}, Max Rating: {}'.format(\n",
        "    num_users, num_movie, min_rating, max_rating\n",
        "))"
      ]
    },
    {
      "cell_type": "markdown",
      "metadata": {
        "id": "UoTjrwQKTb7R"
      },
      "source": [
        "Fungsi kode ini adalah untuk **menyiapkan data *rating***.\n",
        "\n",
        "Pertama, `df['rating'] = df['rating'].values.astype(np.float32)` memastikan semua nilai *rating* disimpan sebagai **angka desimal (float)**. Ini penting karena model *machine learning* sering butuh data dalam format ini agar bisa bekerja dengan baik dan lebih efisien.\n",
        "\n",
        "Setelah itu, `min_rating = min(df['rating'])` dan `max_rating = max(df['rating'])` mencari **nilai *rating* terendah dan tertinggi** yang ada di data Anda.\n",
        "\n",
        "---"
      ]
    },
    {
      "cell_type": "markdown",
      "metadata": {
        "id": "-ztxBOtLRpzW"
      },
      "source": [
        "### Train-Test Split"
      ]
    },
    {
      "cell_type": "code",
      "execution_count": null,
      "metadata": {
        "colab": {
          "base_uri": "https://localhost:8080/",
          "height": 206
        },
        "id": "0ykikYlzNQsJ",
        "outputId": "9796415c-a1bb-46e3-bfd8-1aedcf3a8196"
      },
      "outputs": [
        {
          "data": {
            "text/html": [
              "<div>\n",
              "<style scoped>\n",
              "    .dataframe tbody tr th:only-of-type {\n",
              "        vertical-align: middle;\n",
              "    }\n",
              "\n",
              "    .dataframe tbody tr th {\n",
              "        vertical-align: top;\n",
              "    }\n",
              "\n",
              "    .dataframe thead th {\n",
              "        text-align: right;\n",
              "    }\n",
              "</style>\n",
              "<table border=\"1\" class=\"dataframe\">\n",
              "  <thead>\n",
              "    <tr style=\"text-align: right;\">\n",
              "      <th></th>\n",
              "      <th>userID</th>\n",
              "      <th>movieID</th>\n",
              "      <th>rating</th>\n",
              "      <th>user</th>\n",
              "      <th>movie</th>\n",
              "    </tr>\n",
              "  </thead>\n",
              "  <tbody>\n",
              "    <tr>\n",
              "      <th>87184</th>\n",
              "      <td>330</td>\n",
              "      <td>228</td>\n",
              "      <td>5.0</td>\n",
              "      <td>316</td>\n",
              "      <td>184</td>\n",
              "    </tr>\n",
              "    <tr>\n",
              "      <th>98871</th>\n",
              "      <td>894</td>\n",
              "      <td>318</td>\n",
              "      <td>5.0</td>\n",
              "      <td>893</td>\n",
              "      <td>202</td>\n",
              "    </tr>\n",
              "    <tr>\n",
              "      <th>1956</th>\n",
              "      <td>199</td>\n",
              "      <td>258</td>\n",
              "      <td>4.0</td>\n",
              "      <td>260</td>\n",
              "      <td>160</td>\n",
              "    </tr>\n",
              "    <tr>\n",
              "      <th>11529</th>\n",
              "      <td>181</td>\n",
              "      <td>1374</td>\n",
              "      <td>1.0</td>\n",
              "      <td>36</td>\n",
              "      <td>1283</td>\n",
              "    </tr>\n",
              "    <tr>\n",
              "      <th>39495</th>\n",
              "      <td>314</td>\n",
              "      <td>1016</td>\n",
              "      <td>4.0</td>\n",
              "      <td>265</td>\n",
              "      <td>90</td>\n",
              "    </tr>\n",
              "  </tbody>\n",
              "</table>\n",
              "</div>"
            ],
            "text/plain": [
              "       userID  movieID  rating  user  movie\n",
              "87184     330      228     5.0   316    184\n",
              "98871     894      318     5.0   893    202\n",
              "1956      199      258     4.0   260    160\n",
              "11529     181     1374     1.0    36   1283\n",
              "39495     314     1016     4.0   265     90"
            ]
          },
          "execution_count": 25,
          "metadata": {},
          "output_type": "execute_result"
        }
      ],
      "source": [
        "# Mengacak dataset\n",
        "df = df.sample(frac=1, random_state=42)\n",
        "df.head()"
      ]
    },
    {
      "cell_type": "markdown",
      "metadata": {
        "id": "Ua_lSzGnToiE"
      },
      "source": [
        "Kode ini berfungsi untuk **mengacak urutan baris (data) dalam dataset `df`\n",
        "\n",
        "* **`df.sample(frac=1, random_state=42)`**: Ini adalah bagian inti yang melakukan pengacakan.\n",
        "    * **`frac=1`**: Berarti Anda ingin mengambil 100% dari data (*fraction* 1) untuk diacak. Jadi, semua baris akan diacak ulang.\n",
        "    * **`random_state=42`**: Ini adalah \"seed\" atau angka awal untuk proses pengacakan. Menggunakan angka yang sama (misalnya, 42) akan memastikan bahwa **setiap kali Anda menjalankan kode ini, hasil pengacakannya akan selalu sama**. Ini sangat penting untuk **reproducibility** (hasil yang bisa diulang) dalam eksperimen atau pengembangan model *machine learning*.\n",
        "* **`df = ...`**: Hasil pengacakan kemudian disimpan kembali ke variabel `df`, menimpa urutan data sebelumnya.\n",
        "* **`df.head()`**: Baris ini hanya menampilkan 5 baris pertama dari DataFrame `df` yang sudah diacak untuk memverifikasi bahwa pengacakan berhasil dilakukan.\n",
        "\n",
        "---"
      ]
    },
    {
      "cell_type": "code",
      "execution_count": null,
      "metadata": {
        "id": "21oszk04NTGt"
      },
      "outputs": [],
      "source": [
        "# Membuat variabel x untuk mencocokkan data user dan movie menjadi satu value\n",
        "x = df[['user', 'movie']].values\n",
        "\n",
        "# Membuat variabel y untuk membuat rating dari hasil\n",
        "y = df['rating'].apply(lambda x: (x - min_rating) / (max_rating - min_rating)).values"
      ]
    },
    {
      "cell_type": "markdown",
      "metadata": {
        "id": "rrjSbAahTr4r"
      },
      "source": [
        "### Menggabungkan User dan Movie sebagai Input (`x`)\n",
        "\n",
        "Kode ini berfungsi untuk **menggabungkan data pengguna (*user*) dan film (*movie*) menjadi satu variabel input tunggal**, yang akan dipakai sebagai fitur untuk model.\n",
        "\n",
        "* `x = df[['user', 'movie']].values` mengambil kolom 'user' dan 'movie' dari data Anda, lalu mengubahnya menjadi kumpulan pasangan `[ID_user, ID_movie]`. Ini adalah \"apa yang model lihat\" — siapa yang menonton apa.\n",
        "\n",
        "### Menyiapkan Rating sebagai Output dan Normalisasi (`y`)\n",
        "\n",
        "Kode ini bertugas **menyiapkan nilai *rating* sebagai target (output) untuk model**, sekaligus **menormalkannya** ke rentang 0 hingga 1.\n",
        "\n",
        "* `y = df['rating'].apply(lambda x: (x - min_rating) / (max_rating - min_rating)).values` mengambil kolom 'rating', lalu **menyesuaikan skalanya** agar setiap *rating* berada di antara 0 dan 1. Angka 0 berarti *rating* terendah, dan 1 berarti *rating* tertinggi. Normalisasi ini sangat penting agar model dapat belajar lebih baik dan efisien. Ini adalah \"apa yang model prediksi\" — seberapa tinggi *rating* dari pasangan user-film tersebut.\n",
        "\n",
        "---"
      ]
    },
    {
      "cell_type": "code",
      "execution_count": null,
      "metadata": {
        "id": "84is1lKRNVmy"
      },
      "outputs": [],
      "source": [
        "# Membagi menjadi 80% data train dan 20% data validasi\n",
        "train_indices = int(0.8 * df.shape[0])\n",
        "x_train, x_val, y_train, y_val = (\n",
        "    x[:train_indices],\n",
        "    x[train_indices:],\n",
        "    y[:train_indices],\n",
        "    y[train_indices:]\n",
        ")"
      ]
    },
    {
      "cell_type": "markdown",
      "metadata": {
        "id": "n6Xrkg5eTvM9"
      },
      "source": [
        "Kode ini berfungsi untuk membagi dataset Anda menjadi dua bagian utama: 80% untuk data pelatihan (train) dan 20% untuk data validasi (validation). Ini adalah langkah krusial dalam membangun model machine learning."
      ]
    },
    {
      "cell_type": "markdown",
      "metadata": {
        "id": "UCAD2qqfRcUa"
      },
      "source": [
        "### Model Architecture With Collaborative Filtering"
      ]
    },
    {
      "cell_type": "code",
      "execution_count": null,
      "metadata": {
        "id": "yPkyHZZUNY16"
      },
      "outputs": [],
      "source": [
        "class RecommenderNet(tf.keras.Model):\n",
        "    # Insialisasi fungsi\n",
        "    def __init__(self, num_users, num_movie, embedding_size, **kwargs):\n",
        "        super(RecommenderNet, self).__init__(**kwargs)\n",
        "        self.num_users = num_users\n",
        "        self.num_movie = num_movie\n",
        "        self.embedding_size = embedding_size\n",
        "        self.user_embedding = layers.Embedding( # layer embedding user\n",
        "            num_users,\n",
        "            embedding_size,\n",
        "            embeddings_initializer='he_normal',\n",
        "            embeddings_regularizer=keras.regularizers.l2(1e-6)\n",
        "        )\n",
        "        self.user_bias = layers.Embedding(num_users, 1) # layer embedding user bias\n",
        "        self.movie_embedding = layers.Embedding( # layer embeddings movie\n",
        "            num_movie,\n",
        "            embedding_size,\n",
        "            embeddings_initializer='he_normal',\n",
        "            embeddings_regularizer=keras.regularizers.l2(1e-6)\n",
        "        )\n",
        "        self.movie_bias = layers.Embedding(num_movie, 1) # layer embedding movie bias\n",
        "\n",
        "    def call(self, inputs):\n",
        "        user_vector = self.user_embedding(inputs[:,0]) # memanggil layer embedding 1\n",
        "        user_bias = self.user_bias(inputs[:, 0]) # memanggil layer embedding 2\n",
        "        movie_vector = self.movie_embedding(inputs[:, 1]) # memanggil layer embedding 3\n",
        "        movie_bias = self.movie_bias(inputs[:, 1]) # memanggil layer embedding 4\n",
        "\n",
        "        dot_user_movie = tf.tensordot(user_vector, movie_vector, 2)\n",
        "        x = dot_user_movie + user_bias + movie_bias\n",
        "\n",
        "        return tf.nn.sigmoid(x) # activation sigmoid"
      ]
    },
    {
      "cell_type": "markdown",
      "metadata": {
        "id": "q-kmxKjXTyFH"
      },
      "source": [
        "Kode ini mendefinisikan sebuah arsitektur model neural network bernama RecommenderNet menggunakan TensorFlow dan Keras. Model ini dirancang khusus untuk sistem rekomendasi, bekerja dengan memodelkan interaksi antara pengguna dan film untuk memprediksi rating."
      ]
    },
    {
      "cell_type": "markdown",
      "metadata": {
        "id": "2L4CQCF8RXYU"
      },
      "source": [
        "### Model Training"
      ]
    },
    {
      "cell_type": "code",
      "execution_count": null,
      "metadata": {
        "colab": {
          "base_uri": "https://localhost:8080/"
        },
        "id": "pbiX7WzZNfBo",
        "outputId": "c8afdee5-6f60-48e5-db04-41eb86ddc7a9"
      },
      "outputs": [
        {
          "name": "stdout",
          "output_type": "stream",
          "text": [
            "Epoch 1/10\n",
            "\u001b[1m2501/2501\u001b[0m \u001b[32m━━━━━━━━━━━━━━━━━━━━\u001b[0m\u001b[37m\u001b[0m \u001b[1m8s\u001b[0m 2ms/step - loss: 0.6653 - root_mean_squared_error: 0.2874 - val_loss: 0.6301 - val_root_mean_squared_error: 0.2569\n",
            "Epoch 2/10\n",
            "\u001b[1m2501/2501\u001b[0m \u001b[32m━━━━━━━━━━━━━━━━━━━━\u001b[0m\u001b[37m\u001b[0m \u001b[1m5s\u001b[0m 2ms/step - loss: 0.6256 - root_mean_squared_error: 0.2546 - val_loss: 0.6200 - val_root_mean_squared_error: 0.2476\n",
            "Epoch 3/10\n",
            "\u001b[1m2501/2501\u001b[0m \u001b[32m━━━━━━━━━━━━━━━━━━━━\u001b[0m\u001b[37m\u001b[0m \u001b[1m5s\u001b[0m 2ms/step - loss: 0.6184 - root_mean_squared_error: 0.2466 - val_loss: 0.6167 - val_root_mean_squared_error: 0.2447\n",
            "Epoch 4/10\n",
            "\u001b[1m2501/2501\u001b[0m \u001b[32m━━━━━━━━━━━━━━━━━━━━\u001b[0m\u001b[37m\u001b[0m \u001b[1m5s\u001b[0m 2ms/step - loss: 0.6151 - root_mean_squared_error: 0.2441 - val_loss: 0.6153 - val_root_mean_squared_error: 0.2436\n",
            "Epoch 5/10\n",
            "\u001b[1m2501/2501\u001b[0m \u001b[32m━━━━━━━━━━━━━━━━━━━━\u001b[0m\u001b[37m\u001b[0m \u001b[1m5s\u001b[0m 2ms/step - loss: 0.6125 - root_mean_squared_error: 0.2428 - val_loss: 0.6140 - val_root_mean_squared_error: 0.2423\n",
            "Epoch 6/10\n",
            "\u001b[1m2501/2501\u001b[0m \u001b[32m━━━━━━━━━━━━━━━━━━━━\u001b[0m\u001b[37m\u001b[0m \u001b[1m5s\u001b[0m 2ms/step - loss: 0.6110 - root_mean_squared_error: 0.2407 - val_loss: 0.6132 - val_root_mean_squared_error: 0.2416\n",
            "Epoch 7/10\n",
            "\u001b[1m2501/2501\u001b[0m \u001b[32m━━━━━━━━━━━━━━━━━━━━\u001b[0m\u001b[37m\u001b[0m \u001b[1m5s\u001b[0m 2ms/step - loss: 0.6105 - root_mean_squared_error: 0.2397 - val_loss: 0.6134 - val_root_mean_squared_error: 0.2416\n",
            "Epoch 8/10\n",
            "\u001b[1m2501/2501\u001b[0m \u001b[32m━━━━━━━━━━━━━━━━━━━━\u001b[0m\u001b[37m\u001b[0m \u001b[1m5s\u001b[0m 2ms/step - loss: 0.6086 - root_mean_squared_error: 0.2396 - val_loss: 0.6148 - val_root_mean_squared_error: 0.2428\n",
            "Epoch 9/10\n",
            "\u001b[1m2501/2501\u001b[0m \u001b[32m━━━━━━━━━━━━━━━━━━━━\u001b[0m\u001b[37m\u001b[0m \u001b[1m5s\u001b[0m 2ms/step - loss: 0.6110 - root_mean_squared_error: 0.2410 - val_loss: 0.6138 - val_root_mean_squared_error: 0.2418\n",
            "Epoch 10/10\n",
            "\u001b[1m2501/2501\u001b[0m \u001b[32m━━━━━━━━━━━━━━━━━━━━\u001b[0m\u001b[37m\u001b[0m \u001b[1m5s\u001b[0m 2ms/step - loss: 0.6113 - root_mean_squared_error: 0.2411 - val_loss: 0.6143 - val_root_mean_squared_error: 0.2423\n"
          ]
        }
      ],
      "source": [
        "# Inisialisasi model\n",
        "embedding_size = 50\n",
        "model = RecommenderNet(num_users, num_movie, embedding_size)\n",
        "\n",
        "# Model compile\n",
        "model.compile(\n",
        "    loss=tf.keras.losses.BinaryCrossentropy(),\n",
        "    optimizer=keras.optimizers.Adam(learning_rate=0.001),\n",
        "    metrics=[tf.keras.metrics.RootMeanSquaredError()]\n",
        ")\n",
        "\n",
        "# Training model\n",
        "history = model.fit(\n",
        "    x=x_train,\n",
        "    y=y_train,\n",
        "    batch_size=32,\n",
        "    epochs=10,\n",
        "    validation_data=(x_val, y_val)\n",
        ")"
      ]
    },
    {
      "cell_type": "markdown",
      "metadata": {
        "id": "NzpGoDzgT0hK"
      },
      "source": [
        "Kode ini adalah langkah-langkah kunci dalam membangun dan melatih model rekomendasi yang telah Anda definisikan sebelumnya (RecommenderNet). Model ini dirancang khusus untuk sistem rekomendasi, bekerja dengan memodelkan interaksi antara pengguna dan film untuk memprediksi rating."
      ]
    },
    {
      "cell_type": "markdown",
      "metadata": {
        "id": "-Eb0CeuDRN2d"
      },
      "source": [
        "### Visualization"
      ]
    },
    {
      "cell_type": "code",
      "execution_count": null,
      "metadata": {
        "colab": {
          "base_uri": "https://localhost:8080/",
          "height": 472
        },
        "id": "yLQ51luANgpf",
        "outputId": "adf22da9-edeb-4da1-aa7a-40864dd1f54e"
      },
      "outputs": [
        {
          "data": {
            "image/png": "[encoded data removed]",
            "text/plain": [
              "<Figure size 640x480 with 1 Axes>"
            ]
          },
          "metadata": {},
          "output_type": "display_data"
        }
      ],
      "source": [
        "# Plot training history\n",
        "plt.plot(history.history['root_mean_squared_error'])\n",
        "plt.plot(history.history['val_root_mean_squared_error'])\n",
        "plt.title('Model Metrics')\n",
        "plt.ylabel('Root Mean Squared Error')\n",
        "plt.xlabel('Epoch')\n",
        "plt.legend(['Train', 'Test'], loc='upper left')\n",
        "plt.show()"
      ]
    },
    {
      "cell_type": "markdown",
      "metadata": {
        "id": "wa5_J7AmT4rv"
      },
      "source": [
        "---\n",
        "#### Memvisualisasikan Metrik Pelatihan Model\n",
        "\n",
        "Kode ini berfungsi untuk **menggambarkan performa model Anda selama proses pelatihan** menggunakan *plot*. Ini adalah langkah penting untuk memahami bagaimana model belajar dan mendeteksi masalah seperti *overfitting*.\n",
        "\n",
        "* **`plt.plot(history.history['root_mean_squared_error'])`**: Baris ini menggambar garis yang menunjukkan nilai **RMSE (Root Mean Squared Error) pada data pelatihan** di setiap *epoch*. `history` adalah objek yang menyimpan semua metrik pelatihan dari `model.fit()`.\n",
        "* **`plt.plot(history.history['val_root_mean_squared_error'])`**: Baris ini menggambar garis lain yang menunjukkan nilai **RMSE pada data validasi** di setiap *epoch*.\n",
        "* **`plt.title('Model Metrics')`**: Memberikan judul pada *plot* yaitu 'Model Metrics'.\n",
        "* **`plt.ylabel('Root Mean Squared Error')`**: Memberikan label pada sumbu Y, menunjukkan apa yang diukur (RMSE).\n",
        "* **`plt.xlabel('Epoch')`**: Memberikan label pada sumbu X, menunjukkan *epoch* (berapa kali model telah melihat seluruh data pelatihan).\n",
        "* **`plt.legend(['Train', 'Test'], loc='upper left')`**: Menampilkan legenda yang menjelaskan garis mana yang mewakili data 'Train' dan garis mana yang mewakili data 'Test' (atau validasi), diletakkan di kiri atas *plot*.\n",
        "* **`plt.show()`**: Menampilkan *plot* yang telah dibuat.\n",
        "\n",
        "---"
      ]
    },
    {
      "cell_type": "markdown",
      "metadata": {
        "id": "4YRKE4aIQ-Mk"
      },
      "source": [
        "### Recommendation Function\n"
      ]
    },
    {
      "cell_type": "code",
      "execution_count": null,
      "metadata": {
        "id": "BzL3k6tNQ63Z"
      },
      "outputs": [],
      "source": [
        "def get_recommendations(user_id, n_recommendations=10):\n",
        "    # Get watched movies\n",
        "    watched_movies = df[df['userID'] == user_id]['movieID'].unique()\n",
        "\n",
        "    # Get unwatched movies\n",
        "    movies_not_watched = [\n",
        "        [movie_to_movie_encoded.get(x)]\n",
        "        for x in movie_ids\n",
        "        if x not in watched_movies\n",
        "    ]\n",
        "\n",
        "    # Prepare input array\n",
        "    user_encoder = user_to_user_encoded.get(user_id)\n",
        "    user_movie_array = np.hstack(\n",
        "        ([[user_encoder]] * len(movies_not_watched), movies_not_watched)\n",
        "    )\n",
        "\n",
        "    # Get predictions\n",
        "    ratings = model.predict(user_movie_array).flatten()\n",
        "\n",
        "    # Get top recommendations\n",
        "    top_ratings_indices = ratings.argsort()[-n_recommendations:][::-1]\n",
        "    recommended_movie_ids = [\n",
        "        movie_encoded_to_movie.get(movies_not_watched[x][0])\n",
        "        for x in top_ratings_indices\n",
        "    ]\n",
        "\n",
        "    # Get movie titles\n",
        "    recommended_movies = title_df[title_df['item_id'].isin(recommended_movie_ids)]\n",
        "\n",
        "    # Get user's top rated movies\n",
        "    top_movies_user = (\n",
        "        df[df['userID'] == user_id]\n",
        "        .sort_values(by='rating', ascending=False)\n",
        "        .head(5)\n",
        "        .merge(title_df, left_on='movieID', right_on='item_id')\n",
        "    )\n",
        "\n",
        "    print(f'Showing recommendations for user: {user_id}')\n",
        "    print('='*40)\n",
        "    print('Movies with high ratings from user')\n",
        "    print('-'*40)\n",
        "    for _, row in top_movies_user.iterrows():\n",
        "        print(f\"{row['title']} - Rating: {row['rating']}\")\n",
        "\n",
        "    print('\\n' + '-'*40)\n",
        "    print('Top movie recommendations')\n",
        "    print('-'*40)\n",
        "    for _, row in recommended_movies.iterrows():\n",
        "        print(row['title'])\n",
        "\n",
        "    return recommended_movies"
      ]
    },
    {
      "cell_type": "markdown",
      "metadata": {
        "id": "aixEbB-UT7qj"
      },
      "source": [
        "Fungsi get_recommendations ini dirancang untuk menghasilkan daftar rekomendasi film untuk pengguna tertentu berdasarkan model yang sudah latih. Tujuannya adalah untuk merekomendasikan film yang kemungkinan besar akan disukai pengguna, tetapi belum pernah mereka tonton."
      ]
    },
    {
      "cell_type": "code",
      "execution_count": null,
      "metadata": {
        "colab": {
          "base_uri": "https://localhost:8080/",
          "height": 780
        },
        "id": "tZmORiY4EAij",
        "outputId": "362640b2-ddcc-44b1-aaf8-eb47ca7b5b75"
      },
      "outputs": [
        {
          "name": "stdout",
          "output_type": "stream",
          "text": [
            "\u001b[1m46/46\u001b[0m \u001b[32m━━━━━━━━━━━━━━━━━━━━\u001b[0m\u001b[37m\u001b[0m \u001b[1m0s\u001b[0m 3ms/step  \n",
            "Showing recommendations for user: 707\n",
            "========================================\n",
            "Movies with high ratings from user\n",
            "----------------------------------------\n",
            "Fried Green Tomatoes (1991) - Rating: 5.0\n",
            "Babe (1995) - Rating: 5.0\n",
            "Enchanted April (1991) - Rating: 5.0\n",
            "Looking for Richard (1996) - Rating: 5.0\n",
            "Secrets & Lies (1996) - Rating: 5.0\n",
            "\n",
            "----------------------------------------\n",
            "Top movie recommendations\n",
            "----------------------------------------\n",
            "Star Wars (1977)\n",
            "Silence of the Lambs, The (1991)\n",
            "Wallace & Gromit: The Best of Aardman Animation (1996)\n",
            "Wrong Trousers, The (1993)\n",
            "Alien (1979)\n",
            "Good Will Hunting (1997)\n",
            "Dr. Strangelove or: How I Learned to Stop Worrying and Love the Bomb (1963)\n",
            "Boot, Das (1981)\n",
            "Strictly Ballroom (1992)\n",
            "Some Folks Call It a Sling Blade (1993)\n"
          ]
        },
        {
          "data": {
            "text/html": [
              "<div>\n",
              "<style scoped>\n",
              "    .dataframe tbody tr th:only-of-type {\n",
              "        vertical-align: middle;\n",
              "    }\n",
              "\n",
              "    .dataframe tbody tr th {\n",
              "        vertical-align: top;\n",
              "    }\n",
              "\n",
              "    .dataframe thead th {\n",
              "        text-align: right;\n",
              "    }\n",
              "</style>\n",
              "<table border=\"1\" class=\"dataframe\">\n",
              "  <thead>\n",
              "    <tr style=\"text-align: right;\">\n",
              "      <th></th>\n",
              "      <th>item_id</th>\n",
              "      <th>title</th>\n",
              "    </tr>\n",
              "  </thead>\n",
              "  <tbody>\n",
              "    <tr>\n",
              "      <th>49</th>\n",
              "      <td>50</td>\n",
              "      <td>Star Wars (1977)</td>\n",
              "    </tr>\n",
              "    <tr>\n",
              "      <th>97</th>\n",
              "      <td>98</td>\n",
              "      <td>Silence of the Lambs, The (1991)</td>\n",
              "    </tr>\n",
              "    <tr>\n",
              "      <th>113</th>\n",
              "      <td>114</td>\n",
              "      <td>Wallace &amp; Gromit: The Best of Aardman Animatio...</td>\n",
              "    </tr>\n",
              "    <tr>\n",
              "      <th>168</th>\n",
              "      <td>169</td>\n",
              "      <td>Wrong Trousers, The (1993)</td>\n",
              "    </tr>\n",
              "    <tr>\n",
              "      <th>182</th>\n",
              "      <td>183</td>\n",
              "      <td>Alien (1979)</td>\n",
              "    </tr>\n",
              "    <tr>\n",
              "      <th>271</th>\n",
              "      <td>272</td>\n",
              "      <td>Good Will Hunting (1997)</td>\n",
              "    </tr>\n",
              "    <tr>\n",
              "      <th>473</th>\n",
              "      <td>474</td>\n",
              "      <td>Dr. Strangelove or: How I Learned to Stop Worr...</td>\n",
              "    </tr>\n",
              "    <tr>\n",
              "      <th>514</th>\n",
              "      <td>515</td>\n",
              "      <td>Boot, Das (1981)</td>\n",
              "    </tr>\n",
              "    <tr>\n",
              "      <th>708</th>\n",
              "      <td>709</td>\n",
              "      <td>Strictly Ballroom (1992)</td>\n",
              "    </tr>\n",
              "    <tr>\n",
              "      <th>962</th>\n",
              "      <td>963</td>\n",
              "      <td>Some Folks Call It a Sling Blade (1993)</td>\n",
              "    </tr>\n",
              "  </tbody>\n",
              "</table>\n",
              "</div>"
            ],
            "text/plain": [
              "     item_id                                              title\n",
              "49        50                                   Star Wars (1977)\n",
              "97        98                   Silence of the Lambs, The (1991)\n",
              "113      114  Wallace & Gromit: The Best of Aardman Animatio...\n",
              "168      169                         Wrong Trousers, The (1993)\n",
              "182      183                                       Alien (1979)\n",
              "271      272                           Good Will Hunting (1997)\n",
              "473      474  Dr. Strangelove or: How I Learned to Stop Worr...\n",
              "514      515                                   Boot, Das (1981)\n",
              "708      709                           Strictly Ballroom (1992)\n",
              "962      963            Some Folks Call It a Sling Blade (1993)"
            ]
          },
          "execution_count": 32,
          "metadata": {},
          "output_type": "execute_result"
        }
      ],
      "source": [
        "# Contoh penggunaan\n",
        "sample_user = df['userID'].sample(1).iloc[0]\n",
        "get_recommendations(sample_user)"
      ]
    },
    {
      "cell_type": "markdown",
      "metadata": {
        "id": "CDLK8pamT--o"
      },
      "source": [
        "Kode ini menunjukkan cara menggunakan fungsi `get_recommendations` yang telah buat. Tujuannya adalah untuk mendapatkan dan menampilkan rekomendasi film untuk seorang pengguna acak dari dataset"
      ]
    },
    {
      "cell_type": "code",
      "execution_count": null,
      "metadata": {
        "id": "KDf8lrKPEhtL"
      },
      "outputs": [],
      "source": []
    }
  ],
  "metadata": {
    "colab": {
      "provenance": []
    },
    "kernelspec": {
      "display_name": "Python 3 (ipykernel)",
      "language": "python",
      "name": "python3"
    },
    "language_info": {
      "codemirror_mode": {
        "name": "ipython",
        "version": 3
      },
      "file_extension": ".py",
      "mimetype": "text/x-python",
      "name": "python",
      "nbconvert_exporter": "python",
      "pygments_lexer": "ipython3",
      "version": "3.9.21"
    }
  },
  "nbformat": 4,
  "nbformat_minor": 0
}
